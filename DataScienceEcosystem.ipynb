{
 "cells": [
  {
   "cell_type": "markdown",
   "id": "603c3226-32b5-4b0c-9e0b-687c8089e16e",
   "metadata": {},
   "source": [
    "# Data Science Tools and Ecosystem"
   ]
  },
  {
   "cell_type": "markdown",
   "id": "bbeeb845-0707-4288-b0bc-cfc635b0317c",
   "metadata": {},
   "source": [
    "In this notebook, Data Science Tools and Ecosystem are summarized."
   ]
  },
  {
   "cell_type": "markdown",
   "id": "74f65009-2f9e-40eb-ba18-8854d995ae91",
   "metadata": {},
   "source": [
    "**Objectives:**\n",
    "- List popular languages for Data Science\n",
    "- List commonly used libraries used by Data Scientists\n",
    "- List some Data Science tools"
   ]
  },
  {
   "cell_type": "markdown",
   "id": "8b8815ea-04ec-4fc4-8189-c41b00033f6f",
   "metadata": {},
   "source": [
    "Some of the popular languages that Data Scientists use are:\n",
    "1. Python\n",
    "2. R\n",
    "3. SQL\n",
    "4. Scala\n",
    "5. C"
   ]
  },
  {
   "cell_type": "markdown",
   "id": "0c5cd51b-74c5-417b-8396-2d23c3835625",
   "metadata": {},
   "source": [
    "Some of the commonly used libraries used by Data Scientists include:\n",
    "1. Numpy\n",
    "2. Pandas\n",
    "3. matplotlib\n",
    "4. sklearn\n",
    "5. tensorflow\n",
    "6. pytorch"
   ]
  },
  {
   "cell_type": "markdown",
   "id": "b0d0bde7-0b60-482a-afcf-0255d54ca9b6",
   "metadata": {},
   "source": [
    "Data Science Tools |\n",
    "---|\n",
    "Jupyter Notebook |\n",
    "R Studio |\n",
    "Spyder |"
   ]
  },
  {
   "cell_type": "markdown",
   "id": "2d7a757c-2f2b-47ca-aadb-9a7d0456ea7c",
   "metadata": {},
   "source": [
    "### Below are a few examples of evaluating arithmetic expressions in Python"
   ]
  },
  {
   "cell_type": "code",
   "execution_count": 1,
   "id": "db8febe3-803c-436a-9ea7-c6b52878264b",
   "metadata": {},
   "outputs": [
    {
     "data": {
      "text/plain": [
       "17"
      ]
     },
     "execution_count": 1,
     "metadata": {},
     "output_type": "execute_result"
    }
   ],
   "source": [
    "# This a simple arithmetic expression to mutiply then add integers\n",
    "(3*4)+5"
   ]
  },
  {
   "cell_type": "code",
   "execution_count": 2,
   "id": "b8e2e494-4d11-4f48-8ed7-0f462af20570",
   "metadata": {},
   "outputs": [
    {
     "data": {
      "text/plain": [
       "3.3333333333333335"
      ]
     },
     "execution_count": 2,
     "metadata": {},
     "output_type": "execute_result"
    }
   ],
   "source": [
    "# This will convert 200 minutes to hours by diving by 60\n",
    "200/60"
   ]
  },
  {
   "cell_type": "markdown",
   "id": "158d8230-9337-4968-9e08-5f937d8155a1",
   "metadata": {},
   "source": [
    "## Author\n",
    "Mohammadreza Saeidi Varnoosfaderani"
   ]
  },
  {
   "cell_type": "code",
   "execution_count": null,
   "id": "9741821d-6028-4828-8c0d-1e497789b04f",
   "metadata": {},
   "outputs": [],
   "source": []
  }
 ],
 "metadata": {
  "kernelspec": {
   "display_name": "Python 3 (ipykernel)",
   "language": "python",
   "name": "python3"
  },
  "language_info": {
   "codemirror_mode": {
    "name": "ipython",
    "version": 3
   },
   "file_extension": ".py",
   "mimetype": "text/x-python",
   "name": "python",
   "nbconvert_exporter": "python",
   "pygments_lexer": "ipython3",
   "version": "3.12.3"
  }
 },
 "nbformat": 4,
 "nbformat_minor": 5
}
